{
 "cells": [
  {
   "cell_type": "markdown",
   "id": "4d5272a9",
   "metadata": {},
   "source": [
    "## Example of Forward Feature Selection, Backward Feature Elimination, Exhaustive Feature Selection, Recursive Feature Elimination and Random Forest Importance."
   ]
  },
  {
   "cell_type": "markdown",
   "id": "d5b583d0",
   "metadata": {},
   "source": [
    "In this model we are pridicting that 'will the customer churn or not' using random forest classifier. "
   ]
  },
  {
   "cell_type": "code",
   "execution_count": 1,
   "id": "b74b1c6d",
   "metadata": {},
   "outputs": [],
   "source": [
    "import pandas as pd\n",
    "import numpy as np\n",
    "import matplotlib.pyplot as plt"
   ]
  },
  {
   "cell_type": "code",
   "execution_count": 2,
   "id": "d23ee6f3",
   "metadata": {},
   "outputs": [
    {
     "data": {
      "text/plain": [
       "customerID          0\n",
       "tenure              0\n",
       "PhoneService        0\n",
       "Contract            0\n",
       "PaperlessBilling    0\n",
       "PaymentMethod       0\n",
       "MonthlyCharges      0\n",
       "TotalCharges        0\n",
       "Churn               0\n",
       "dtype: int64"
      ]
     },
     "execution_count": 2,
     "metadata": {},
     "output_type": "execute_result"
    }
   ],
   "source": [
    "churn_data = pd.read_csv('data/churn_data.csv')\n",
    "churn_data.isnull().sum()"
   ]
  },
  {
   "cell_type": "code",
   "execution_count": 3,
   "id": "e9c0a4ea",
   "metadata": {},
   "outputs": [
    {
     "data": {
      "text/plain": [
       "customerID       0\n",
       "gender           0\n",
       "SeniorCitizen    0\n",
       "Partner          0\n",
       "Dependents       0\n",
       "dtype: int64"
      ]
     },
     "execution_count": 3,
     "metadata": {},
     "output_type": "execute_result"
    }
   ],
   "source": [
    "customer_data = pd.read_csv('data/customer_data.csv')\n",
    "customer_data.isnull().sum()"
   ]
  },
  {
   "cell_type": "code",
   "execution_count": 4,
   "id": "9328b2d7",
   "metadata": {},
   "outputs": [
    {
     "data": {
      "text/plain": [
       "customerID          0\n",
       "MultipleLines       0\n",
       "InternetService     0\n",
       "OnlineSecurity      0\n",
       "OnlineBackup        0\n",
       "DeviceProtection    0\n",
       "TechSupport         0\n",
       "StreamingTV         0\n",
       "StreamingMovies     0\n",
       "dtype: int64"
      ]
     },
     "execution_count": 4,
     "metadata": {},
     "output_type": "execute_result"
    }
   ],
   "source": [
    "internet_data = pd.read_csv('data/internet_data.csv')\n",
    "internet_data.isnull().sum()"
   ]
  },
  {
   "cell_type": "code",
   "execution_count": 5,
   "id": "3fd657d5",
   "metadata": {},
   "outputs": [
    {
     "data": {
      "text/html": [
       "<div>\n",
       "<style scoped>\n",
       "    .dataframe tbody tr th:only-of-type {\n",
       "        vertical-align: middle;\n",
       "    }\n",
       "\n",
       "    .dataframe tbody tr th {\n",
       "        vertical-align: top;\n",
       "    }\n",
       "\n",
       "    .dataframe thead th {\n",
       "        text-align: right;\n",
       "    }\n",
       "</style>\n",
       "<table border=\"1\" class=\"dataframe\">\n",
       "  <thead>\n",
       "    <tr style=\"text-align: right;\">\n",
       "      <th></th>\n",
       "      <th>customerID</th>\n",
       "      <th>tenure</th>\n",
       "      <th>PhoneService</th>\n",
       "      <th>Contract</th>\n",
       "      <th>PaperlessBilling</th>\n",
       "      <th>PaymentMethod</th>\n",
       "      <th>MonthlyCharges</th>\n",
       "      <th>TotalCharges</th>\n",
       "      <th>Churn</th>\n",
       "    </tr>\n",
       "  </thead>\n",
       "  <tbody>\n",
       "    <tr>\n",
       "      <th>0</th>\n",
       "      <td>7590-VHVEG</td>\n",
       "      <td>1</td>\n",
       "      <td>No</td>\n",
       "      <td>Month-to-month</td>\n",
       "      <td>Yes</td>\n",
       "      <td>Electronic check</td>\n",
       "      <td>29.85</td>\n",
       "      <td>29.85</td>\n",
       "      <td>No</td>\n",
       "    </tr>\n",
       "    <tr>\n",
       "      <th>1</th>\n",
       "      <td>5575-GNVDE</td>\n",
       "      <td>34</td>\n",
       "      <td>Yes</td>\n",
       "      <td>One year</td>\n",
       "      <td>No</td>\n",
       "      <td>Mailed check</td>\n",
       "      <td>56.95</td>\n",
       "      <td>1889.5</td>\n",
       "      <td>No</td>\n",
       "    </tr>\n",
       "    <tr>\n",
       "      <th>2</th>\n",
       "      <td>3668-QPYBK</td>\n",
       "      <td>2</td>\n",
       "      <td>Yes</td>\n",
       "      <td>Month-to-month</td>\n",
       "      <td>Yes</td>\n",
       "      <td>Mailed check</td>\n",
       "      <td>53.85</td>\n",
       "      <td>108.15</td>\n",
       "      <td>Yes</td>\n",
       "    </tr>\n",
       "    <tr>\n",
       "      <th>3</th>\n",
       "      <td>7795-CFOCW</td>\n",
       "      <td>45</td>\n",
       "      <td>No</td>\n",
       "      <td>One year</td>\n",
       "      <td>No</td>\n",
       "      <td>Bank transfer (automatic)</td>\n",
       "      <td>42.30</td>\n",
       "      <td>1840.75</td>\n",
       "      <td>No</td>\n",
       "    </tr>\n",
       "    <tr>\n",
       "      <th>4</th>\n",
       "      <td>9237-HQITU</td>\n",
       "      <td>2</td>\n",
       "      <td>Yes</td>\n",
       "      <td>Month-to-month</td>\n",
       "      <td>Yes</td>\n",
       "      <td>Electronic check</td>\n",
       "      <td>70.70</td>\n",
       "      <td>151.65</td>\n",
       "      <td>Yes</td>\n",
       "    </tr>\n",
       "  </tbody>\n",
       "</table>\n",
       "</div>"
      ],
      "text/plain": [
       "   customerID  tenure PhoneService        Contract PaperlessBilling  \\\n",
       "0  7590-VHVEG       1           No  Month-to-month              Yes   \n",
       "1  5575-GNVDE      34          Yes        One year               No   \n",
       "2  3668-QPYBK       2          Yes  Month-to-month              Yes   \n",
       "3  7795-CFOCW      45           No        One year               No   \n",
       "4  9237-HQITU       2          Yes  Month-to-month              Yes   \n",
       "\n",
       "               PaymentMethod  MonthlyCharges TotalCharges Churn  \n",
       "0           Electronic check           29.85        29.85    No  \n",
       "1               Mailed check           56.95       1889.5    No  \n",
       "2               Mailed check           53.85       108.15   Yes  \n",
       "3  Bank transfer (automatic)           42.30      1840.75    No  \n",
       "4           Electronic check           70.70       151.65   Yes  "
      ]
     },
     "execution_count": 5,
     "metadata": {},
     "output_type": "execute_result"
    }
   ],
   "source": [
    "churn_data.head()"
   ]
  },
  {
   "cell_type": "code",
   "execution_count": 6,
   "id": "a5d2d3d2",
   "metadata": {},
   "outputs": [
    {
     "data": {
      "text/html": [
       "<div>\n",
       "<style scoped>\n",
       "    .dataframe tbody tr th:only-of-type {\n",
       "        vertical-align: middle;\n",
       "    }\n",
       "\n",
       "    .dataframe tbody tr th {\n",
       "        vertical-align: top;\n",
       "    }\n",
       "\n",
       "    .dataframe thead th {\n",
       "        text-align: right;\n",
       "    }\n",
       "</style>\n",
       "<table border=\"1\" class=\"dataframe\">\n",
       "  <thead>\n",
       "    <tr style=\"text-align: right;\">\n",
       "      <th></th>\n",
       "      <th>customerID</th>\n",
       "      <th>gender</th>\n",
       "      <th>SeniorCitizen</th>\n",
       "      <th>Partner</th>\n",
       "      <th>Dependents</th>\n",
       "    </tr>\n",
       "  </thead>\n",
       "  <tbody>\n",
       "    <tr>\n",
       "      <th>0</th>\n",
       "      <td>7590-VHVEG</td>\n",
       "      <td>Female</td>\n",
       "      <td>0</td>\n",
       "      <td>Yes</td>\n",
       "      <td>No</td>\n",
       "    </tr>\n",
       "    <tr>\n",
       "      <th>1</th>\n",
       "      <td>5575-GNVDE</td>\n",
       "      <td>Male</td>\n",
       "      <td>0</td>\n",
       "      <td>No</td>\n",
       "      <td>No</td>\n",
       "    </tr>\n",
       "    <tr>\n",
       "      <th>2</th>\n",
       "      <td>3668-QPYBK</td>\n",
       "      <td>Male</td>\n",
       "      <td>0</td>\n",
       "      <td>No</td>\n",
       "      <td>No</td>\n",
       "    </tr>\n",
       "    <tr>\n",
       "      <th>3</th>\n",
       "      <td>7795-CFOCW</td>\n",
       "      <td>Male</td>\n",
       "      <td>0</td>\n",
       "      <td>No</td>\n",
       "      <td>No</td>\n",
       "    </tr>\n",
       "    <tr>\n",
       "      <th>4</th>\n",
       "      <td>9237-HQITU</td>\n",
       "      <td>Female</td>\n",
       "      <td>0</td>\n",
       "      <td>No</td>\n",
       "      <td>No</td>\n",
       "    </tr>\n",
       "  </tbody>\n",
       "</table>\n",
       "</div>"
      ],
      "text/plain": [
       "   customerID  gender  SeniorCitizen Partner Dependents\n",
       "0  7590-VHVEG  Female              0     Yes         No\n",
       "1  5575-GNVDE    Male              0      No         No\n",
       "2  3668-QPYBK    Male              0      No         No\n",
       "3  7795-CFOCW    Male              0      No         No\n",
       "4  9237-HQITU  Female              0      No         No"
      ]
     },
     "execution_count": 6,
     "metadata": {},
     "output_type": "execute_result"
    }
   ],
   "source": [
    "customer_data.head()"
   ]
  },
  {
   "cell_type": "code",
   "execution_count": 7,
   "id": "a3fad14b",
   "metadata": {},
   "outputs": [
    {
     "data": {
      "text/html": [
       "<div>\n",
       "<style scoped>\n",
       "    .dataframe tbody tr th:only-of-type {\n",
       "        vertical-align: middle;\n",
       "    }\n",
       "\n",
       "    .dataframe tbody tr th {\n",
       "        vertical-align: top;\n",
       "    }\n",
       "\n",
       "    .dataframe thead th {\n",
       "        text-align: right;\n",
       "    }\n",
       "</style>\n",
       "<table border=\"1\" class=\"dataframe\">\n",
       "  <thead>\n",
       "    <tr style=\"text-align: right;\">\n",
       "      <th></th>\n",
       "      <th>customerID</th>\n",
       "      <th>MultipleLines</th>\n",
       "      <th>InternetService</th>\n",
       "      <th>OnlineSecurity</th>\n",
       "      <th>OnlineBackup</th>\n",
       "      <th>DeviceProtection</th>\n",
       "      <th>TechSupport</th>\n",
       "      <th>StreamingTV</th>\n",
       "      <th>StreamingMovies</th>\n",
       "    </tr>\n",
       "  </thead>\n",
       "  <tbody>\n",
       "    <tr>\n",
       "      <th>0</th>\n",
       "      <td>7590-VHVEG</td>\n",
       "      <td>No phone service</td>\n",
       "      <td>DSL</td>\n",
       "      <td>No</td>\n",
       "      <td>Yes</td>\n",
       "      <td>No</td>\n",
       "      <td>No</td>\n",
       "      <td>No</td>\n",
       "      <td>No</td>\n",
       "    </tr>\n",
       "    <tr>\n",
       "      <th>1</th>\n",
       "      <td>5575-GNVDE</td>\n",
       "      <td>No</td>\n",
       "      <td>DSL</td>\n",
       "      <td>Yes</td>\n",
       "      <td>No</td>\n",
       "      <td>Yes</td>\n",
       "      <td>No</td>\n",
       "      <td>No</td>\n",
       "      <td>No</td>\n",
       "    </tr>\n",
       "    <tr>\n",
       "      <th>2</th>\n",
       "      <td>3668-QPYBK</td>\n",
       "      <td>No</td>\n",
       "      <td>DSL</td>\n",
       "      <td>Yes</td>\n",
       "      <td>Yes</td>\n",
       "      <td>No</td>\n",
       "      <td>No</td>\n",
       "      <td>No</td>\n",
       "      <td>No</td>\n",
       "    </tr>\n",
       "    <tr>\n",
       "      <th>3</th>\n",
       "      <td>7795-CFOCW</td>\n",
       "      <td>No phone service</td>\n",
       "      <td>DSL</td>\n",
       "      <td>Yes</td>\n",
       "      <td>No</td>\n",
       "      <td>Yes</td>\n",
       "      <td>Yes</td>\n",
       "      <td>No</td>\n",
       "      <td>No</td>\n",
       "    </tr>\n",
       "    <tr>\n",
       "      <th>4</th>\n",
       "      <td>9237-HQITU</td>\n",
       "      <td>No</td>\n",
       "      <td>Fiber optic</td>\n",
       "      <td>No</td>\n",
       "      <td>No</td>\n",
       "      <td>No</td>\n",
       "      <td>No</td>\n",
       "      <td>No</td>\n",
       "      <td>No</td>\n",
       "    </tr>\n",
       "  </tbody>\n",
       "</table>\n",
       "</div>"
      ],
      "text/plain": [
       "   customerID     MultipleLines InternetService OnlineSecurity OnlineBackup  \\\n",
       "0  7590-VHVEG  No phone service             DSL             No          Yes   \n",
       "1  5575-GNVDE                No             DSL            Yes           No   \n",
       "2  3668-QPYBK                No             DSL            Yes          Yes   \n",
       "3  7795-CFOCW  No phone service             DSL            Yes           No   \n",
       "4  9237-HQITU                No     Fiber optic             No           No   \n",
       "\n",
       "  DeviceProtection TechSupport StreamingTV StreamingMovies  \n",
       "0               No          No          No              No  \n",
       "1              Yes          No          No              No  \n",
       "2               No          No          No              No  \n",
       "3              Yes         Yes          No              No  \n",
       "4               No          No          No              No  "
      ]
     },
     "execution_count": 7,
     "metadata": {},
     "output_type": "execute_result"
    }
   ],
   "source": [
    "internet_data.head()"
   ]
  },
  {
   "cell_type": "code",
   "execution_count": 8,
   "id": "efdd9942",
   "metadata": {},
   "outputs": [
    {
     "name": "stdout",
     "output_type": "stream",
     "text": [
      "<class 'pandas.core.frame.DataFrame'>\n",
      "Int64Index: 7042 entries, 0 to 7041\n",
      "Data columns (total 21 columns):\n",
      " #   Column            Non-Null Count  Dtype  \n",
      "---  ------            --------------  -----  \n",
      " 0   customerID        7042 non-null   object \n",
      " 1   gender            7042 non-null   object \n",
      " 2   SeniorCitizen     7042 non-null   int64  \n",
      " 3   Partner           7042 non-null   object \n",
      " 4   Dependents        7042 non-null   object \n",
      " 5   MultipleLines     7042 non-null   object \n",
      " 6   InternetService   7042 non-null   object \n",
      " 7   OnlineSecurity    7042 non-null   object \n",
      " 8   OnlineBackup      7042 non-null   object \n",
      " 9   DeviceProtection  7042 non-null   object \n",
      " 10  TechSupport       7042 non-null   object \n",
      " 11  StreamingTV       7042 non-null   object \n",
      " 12  StreamingMovies   7042 non-null   object \n",
      " 13  tenure            7042 non-null   int64  \n",
      " 14  PhoneService      7042 non-null   object \n",
      " 15  Contract          7042 non-null   object \n",
      " 16  PaperlessBilling  7042 non-null   object \n",
      " 17  PaymentMethod     7042 non-null   object \n",
      " 18  MonthlyCharges    7042 non-null   float64\n",
      " 19  TotalCharges      7042 non-null   object \n",
      " 20  Churn             7042 non-null   object \n",
      "dtypes: float64(1), int64(2), object(18)\n",
      "memory usage: 1.2+ MB\n"
     ]
    }
   ],
   "source": [
    "datatemp = pd.merge(customer_data, internet_data, how = 'inner', on = 'customerID')\n",
    "dataSet = pd.merge(datatemp, churn_data, how = 'inner', on = 'customerID')\n",
    "dataSet.info()"
   ]
  },
  {
   "cell_type": "code",
   "execution_count": 9,
   "id": "0798f64d",
   "metadata": {},
   "outputs": [
    {
     "data": {
      "text/plain": [
       "customerID          0\n",
       "gender              0\n",
       "SeniorCitizen       0\n",
       "Partner             0\n",
       "Dependents          0\n",
       "MultipleLines       0\n",
       "InternetService     0\n",
       "OnlineSecurity      0\n",
       "OnlineBackup        0\n",
       "DeviceProtection    0\n",
       "TechSupport         0\n",
       "StreamingTV         0\n",
       "StreamingMovies     0\n",
       "tenure              0\n",
       "PhoneService        0\n",
       "Contract            0\n",
       "PaperlessBilling    0\n",
       "PaymentMethod       0\n",
       "MonthlyCharges      0\n",
       "TotalCharges        0\n",
       "Churn               0\n",
       "dtype: int64"
      ]
     },
     "execution_count": 9,
     "metadata": {},
     "output_type": "execute_result"
    }
   ],
   "source": [
    "dataSet.isnull().sum()"
   ]
  },
  {
   "cell_type": "code",
   "execution_count": 10,
   "id": "57cfa8e4",
   "metadata": {},
   "outputs": [
    {
     "data": {
      "text/html": [
       "<div>\n",
       "<style scoped>\n",
       "    .dataframe tbody tr th:only-of-type {\n",
       "        vertical-align: middle;\n",
       "    }\n",
       "\n",
       "    .dataframe tbody tr th {\n",
       "        vertical-align: top;\n",
       "    }\n",
       "\n",
       "    .dataframe thead th {\n",
       "        text-align: right;\n",
       "    }\n",
       "</style>\n",
       "<table border=\"1\" class=\"dataframe\">\n",
       "  <thead>\n",
       "    <tr style=\"text-align: right;\">\n",
       "      <th></th>\n",
       "      <th>customerID</th>\n",
       "      <th>gender</th>\n",
       "      <th>SeniorCitizen</th>\n",
       "      <th>Partner</th>\n",
       "      <th>Dependents</th>\n",
       "      <th>MultipleLines</th>\n",
       "      <th>InternetService</th>\n",
       "      <th>OnlineSecurity</th>\n",
       "      <th>OnlineBackup</th>\n",
       "      <th>DeviceProtection</th>\n",
       "      <th>...</th>\n",
       "      <th>StreamingTV</th>\n",
       "      <th>StreamingMovies</th>\n",
       "      <th>tenure</th>\n",
       "      <th>PhoneService</th>\n",
       "      <th>Contract</th>\n",
       "      <th>PaperlessBilling</th>\n",
       "      <th>PaymentMethod</th>\n",
       "      <th>MonthlyCharges</th>\n",
       "      <th>TotalCharges</th>\n",
       "      <th>Churn</th>\n",
       "    </tr>\n",
       "  </thead>\n",
       "  <tbody>\n",
       "    <tr>\n",
       "      <th>0</th>\n",
       "      <td>7590-VHVEG</td>\n",
       "      <td>Female</td>\n",
       "      <td>0</td>\n",
       "      <td>Yes</td>\n",
       "      <td>No</td>\n",
       "      <td>No phone service</td>\n",
       "      <td>DSL</td>\n",
       "      <td>No</td>\n",
       "      <td>Yes</td>\n",
       "      <td>No</td>\n",
       "      <td>...</td>\n",
       "      <td>No</td>\n",
       "      <td>No</td>\n",
       "      <td>1</td>\n",
       "      <td>No</td>\n",
       "      <td>Month-to-month</td>\n",
       "      <td>Yes</td>\n",
       "      <td>Electronic check</td>\n",
       "      <td>29.85</td>\n",
       "      <td>29.85</td>\n",
       "      <td>No</td>\n",
       "    </tr>\n",
       "    <tr>\n",
       "      <th>1</th>\n",
       "      <td>5575-GNVDE</td>\n",
       "      <td>Male</td>\n",
       "      <td>0</td>\n",
       "      <td>No</td>\n",
       "      <td>No</td>\n",
       "      <td>No</td>\n",
       "      <td>DSL</td>\n",
       "      <td>Yes</td>\n",
       "      <td>No</td>\n",
       "      <td>Yes</td>\n",
       "      <td>...</td>\n",
       "      <td>No</td>\n",
       "      <td>No</td>\n",
       "      <td>34</td>\n",
       "      <td>Yes</td>\n",
       "      <td>One year</td>\n",
       "      <td>No</td>\n",
       "      <td>Mailed check</td>\n",
       "      <td>56.95</td>\n",
       "      <td>1889.5</td>\n",
       "      <td>No</td>\n",
       "    </tr>\n",
       "    <tr>\n",
       "      <th>2</th>\n",
       "      <td>3668-QPYBK</td>\n",
       "      <td>Male</td>\n",
       "      <td>0</td>\n",
       "      <td>No</td>\n",
       "      <td>No</td>\n",
       "      <td>No</td>\n",
       "      <td>DSL</td>\n",
       "      <td>Yes</td>\n",
       "      <td>Yes</td>\n",
       "      <td>No</td>\n",
       "      <td>...</td>\n",
       "      <td>No</td>\n",
       "      <td>No</td>\n",
       "      <td>2</td>\n",
       "      <td>Yes</td>\n",
       "      <td>Month-to-month</td>\n",
       "      <td>Yes</td>\n",
       "      <td>Mailed check</td>\n",
       "      <td>53.85</td>\n",
       "      <td>108.15</td>\n",
       "      <td>Yes</td>\n",
       "    </tr>\n",
       "    <tr>\n",
       "      <th>3</th>\n",
       "      <td>7795-CFOCW</td>\n",
       "      <td>Male</td>\n",
       "      <td>0</td>\n",
       "      <td>No</td>\n",
       "      <td>No</td>\n",
       "      <td>No phone service</td>\n",
       "      <td>DSL</td>\n",
       "      <td>Yes</td>\n",
       "      <td>No</td>\n",
       "      <td>Yes</td>\n",
       "      <td>...</td>\n",
       "      <td>No</td>\n",
       "      <td>No</td>\n",
       "      <td>45</td>\n",
       "      <td>No</td>\n",
       "      <td>One year</td>\n",
       "      <td>No</td>\n",
       "      <td>Bank transfer (automatic)</td>\n",
       "      <td>42.30</td>\n",
       "      <td>1840.75</td>\n",
       "      <td>No</td>\n",
       "    </tr>\n",
       "    <tr>\n",
       "      <th>4</th>\n",
       "      <td>9237-HQITU</td>\n",
       "      <td>Female</td>\n",
       "      <td>0</td>\n",
       "      <td>No</td>\n",
       "      <td>No</td>\n",
       "      <td>No</td>\n",
       "      <td>Fiber optic</td>\n",
       "      <td>No</td>\n",
       "      <td>No</td>\n",
       "      <td>No</td>\n",
       "      <td>...</td>\n",
       "      <td>No</td>\n",
       "      <td>No</td>\n",
       "      <td>2</td>\n",
       "      <td>Yes</td>\n",
       "      <td>Month-to-month</td>\n",
       "      <td>Yes</td>\n",
       "      <td>Electronic check</td>\n",
       "      <td>70.70</td>\n",
       "      <td>151.65</td>\n",
       "      <td>Yes</td>\n",
       "    </tr>\n",
       "  </tbody>\n",
       "</table>\n",
       "<p>5 rows × 21 columns</p>\n",
       "</div>"
      ],
      "text/plain": [
       "   customerID  gender  SeniorCitizen Partner Dependents     MultipleLines  \\\n",
       "0  7590-VHVEG  Female              0     Yes         No  No phone service   \n",
       "1  5575-GNVDE    Male              0      No         No                No   \n",
       "2  3668-QPYBK    Male              0      No         No                No   \n",
       "3  7795-CFOCW    Male              0      No         No  No phone service   \n",
       "4  9237-HQITU  Female              0      No         No                No   \n",
       "\n",
       "  InternetService OnlineSecurity OnlineBackup DeviceProtection  ...  \\\n",
       "0             DSL             No          Yes               No  ...   \n",
       "1             DSL            Yes           No              Yes  ...   \n",
       "2             DSL            Yes          Yes               No  ...   \n",
       "3             DSL            Yes           No              Yes  ...   \n",
       "4     Fiber optic             No           No               No  ...   \n",
       "\n",
       "  StreamingTV StreamingMovies tenure  PhoneService        Contract  \\\n",
       "0          No              No      1            No  Month-to-month   \n",
       "1          No              No     34           Yes        One year   \n",
       "2          No              No      2           Yes  Month-to-month   \n",
       "3          No              No     45            No        One year   \n",
       "4          No              No      2           Yes  Month-to-month   \n",
       "\n",
       "  PaperlessBilling              PaymentMethod MonthlyCharges  TotalCharges  \\\n",
       "0              Yes           Electronic check          29.85         29.85   \n",
       "1               No               Mailed check          56.95        1889.5   \n",
       "2              Yes               Mailed check          53.85        108.15   \n",
       "3               No  Bank transfer (automatic)          42.30       1840.75   \n",
       "4              Yes           Electronic check          70.70        151.65   \n",
       "\n",
       "  Churn  \n",
       "0    No  \n",
       "1    No  \n",
       "2   Yes  \n",
       "3    No  \n",
       "4   Yes  \n",
       "\n",
       "[5 rows x 21 columns]"
      ]
     },
     "execution_count": 10,
     "metadata": {},
     "output_type": "execute_result"
    }
   ],
   "source": [
    "dataSet.head()"
   ]
  },
  {
   "cell_type": "code",
   "execution_count": 11,
   "id": "af73ba85",
   "metadata": {},
   "outputs": [
    {
     "name": "stdout",
     "output_type": "stream",
     "text": [
      "['customerID',\n",
      " array(['7590-VHVEG', '5575-GNVDE', '3668-QPYBK', ..., '2234-XADUH',\n",
      "       '4801-JZAZL', '8361-LTMKD'], dtype=object),\n",
      " 'gender',\n",
      " array(['Female', 'Male'], dtype=object),\n",
      " 'SeniorCitizen',\n",
      " array([0, 1], dtype=int64),\n",
      " 'Partner',\n",
      " array(['Yes', 'No'], dtype=object),\n",
      " 'Dependents',\n",
      " array(['No', 'Yes'], dtype=object),\n",
      " 'MultipleLines',\n",
      " array(['No phone service', 'No', 'Yes'], dtype=object),\n",
      " 'InternetService',\n",
      " array(['DSL', 'Fiber optic', 'No'], dtype=object),\n",
      " 'OnlineSecurity',\n",
      " array(['No', 'Yes', 'No internet service'], dtype=object),\n",
      " 'OnlineBackup',\n",
      " array(['Yes', 'No', 'No internet service'], dtype=object),\n",
      " 'DeviceProtection',\n",
      " array(['No', 'Yes', 'No internet service'], dtype=object),\n",
      " 'TechSupport',\n",
      " array(['No', 'Yes', 'No internet service'], dtype=object),\n",
      " 'StreamingTV',\n",
      " array(['No', 'Yes', 'No internet service'], dtype=object),\n",
      " 'StreamingMovies',\n",
      " array(['No', 'Yes', 'No internet service'], dtype=object),\n",
      " 'tenure',\n",
      " array([ 1, 34,  2, 45,  8, 22, 10, 28, 62, 13, 16, 58, 49, 25, 69, 52, 71,\n",
      "       21, 12, 30, 47, 72, 17, 27,  5, 46, 11, 70, 63, 43, 15, 60, 18, 66,\n",
      "        9,  3, 31, 50, 64, 56,  7, 42, 35, 48, 29, 65, 38, 68, 32, 55, 37,\n",
      "       36, 41,  6,  4, 33, 67, 23, 57, 61, 14, 20, 53, 40, 59, 24, 44, 19,\n",
      "       54, 51, 26,  0, 39], dtype=int64),\n",
      " 'PhoneService',\n",
      " array(['No', 'Yes'], dtype=object),\n",
      " 'Contract',\n",
      " array(['Month-to-month', 'One year', 'Two year'], dtype=object),\n",
      " 'PaperlessBilling',\n",
      " array(['Yes', 'No'], dtype=object),\n",
      " 'PaymentMethod',\n",
      " array(['Electronic check', 'Mailed check', 'Bank transfer (automatic)',\n",
      "       'Credit card (automatic)'], dtype=object),\n",
      " 'MonthlyCharges',\n",
      " array([29.85, 56.95, 53.85, ..., 63.1 , 44.2 , 78.7 ]),\n",
      " 'TotalCharges',\n",
      " array(['29.85', '1889.5', '108.15', ..., '7362.9', '346.45', '306.6'],\n",
      "      dtype=object),\n",
      " 'Churn',\n",
      " array(['No', 'Yes'], dtype=object)]\n"
     ]
    }
   ],
   "source": [
    "unique_val = []\n",
    "for i in dataSet:\n",
    "    if(dataSet[i].dtype):\n",
    "        unique_val.append(i)\n",
    "        unique_val.append(dataSet[i].unique())\n",
    "import pprint\n",
    "pprint.pprint(unique_val)"
   ]
  },
  {
   "cell_type": "markdown",
   "id": "a6ede00c",
   "metadata": {},
   "source": [
    "Yes/No type attributes can be converted to [1,0]\n",
    "but attributes with more information need dummy variables"
   ]
  },
  {
   "cell_type": "code",
   "execution_count": 12,
   "id": "decf1a3e",
   "metadata": {},
   "outputs": [],
   "source": [
    "yesnoToggle = {'Male':1, 'Female': 0,'Yes': 1, 'No': 0 ,'No internet service': 0}\n",
    "toToggleAttr = ['PhoneService', 'PaperlessBilling', 'Churn', 'Partner', 'Dependents', 'gender','OnlineSecurity','OnlineBackup','DeviceProtection','TechSupport','StreamingTV','StreamingMovies']\n",
    "for i in toToggleAttr:\n",
    "    dataSet[i] = dataSet[i].map(yesnoToggle)\n"
   ]
  },
  {
   "cell_type": "code",
   "execution_count": 13,
   "id": "48d1d2f7",
   "metadata": {},
   "outputs": [],
   "source": [
    "con = pd.get_dummies(dataSet['Contract'], prefix='Contract')\n",
    "dataSet = pd.concat([dataSet,con], axis=1)\n",
    "dataSet = dataSet.drop('Contract', axis = 1)\n",
    "\n",
    "ml = pd.get_dummies(dataSet['MultipleLines'], prefix = 'MultipleLines')\n",
    "dataSet = pd.concat([dataSet, ml], axis= 1)\n",
    "dataSet = dataSet.drop(['MultipleLines', 'MultipleLines_No phone service'], axis = 1)\n",
    "\n",
    "isp = pd.get_dummies(dataSet['InternetService'], prefix = 'InternetService')\n",
    "dataSet = pd.concat([dataSet, isp], axis = 1)\n",
    "dataSet = dataSet.drop(['InternetService_No', 'InternetService'], axis = 1)\n",
    "\n",
    "pm = pd.get_dummies(dataSet['PaymentMethod'], prefix = 'PaymentMethod')\n",
    "dataSet = pd.concat([dataSet, pm], axis = 1)\n",
    "dataSet = dataSet.drop('PaymentMethod', axis = 1)\n",
    "\n",
    "dataSet['TotalCharges'] = pd.to_numeric(dataSet['TotalCharges'],errors = 'coerce')"
   ]
  },
  {
   "cell_type": "code",
   "execution_count": 14,
   "id": "d3daadf3",
   "metadata": {},
   "outputs": [
    {
     "data": {
      "text/html": [
       "<div>\n",
       "<style scoped>\n",
       "    .dataframe tbody tr th:only-of-type {\n",
       "        vertical-align: middle;\n",
       "    }\n",
       "\n",
       "    .dataframe tbody tr th {\n",
       "        vertical-align: top;\n",
       "    }\n",
       "\n",
       "    .dataframe thead th {\n",
       "        text-align: right;\n",
       "    }\n",
       "</style>\n",
       "<table border=\"1\" class=\"dataframe\">\n",
       "  <thead>\n",
       "    <tr style=\"text-align: right;\">\n",
       "      <th></th>\n",
       "      <th>customerID</th>\n",
       "      <th>gender</th>\n",
       "      <th>SeniorCitizen</th>\n",
       "      <th>Partner</th>\n",
       "      <th>Dependents</th>\n",
       "      <th>OnlineSecurity</th>\n",
       "      <th>OnlineBackup</th>\n",
       "      <th>DeviceProtection</th>\n",
       "      <th>TechSupport</th>\n",
       "      <th>StreamingTV</th>\n",
       "      <th>...</th>\n",
       "      <th>Contract_One year</th>\n",
       "      <th>Contract_Two year</th>\n",
       "      <th>MultipleLines_No</th>\n",
       "      <th>MultipleLines_Yes</th>\n",
       "      <th>InternetService_DSL</th>\n",
       "      <th>InternetService_Fiber optic</th>\n",
       "      <th>PaymentMethod_Bank transfer (automatic)</th>\n",
       "      <th>PaymentMethod_Credit card (automatic)</th>\n",
       "      <th>PaymentMethod_Electronic check</th>\n",
       "      <th>PaymentMethod_Mailed check</th>\n",
       "    </tr>\n",
       "  </thead>\n",
       "  <tbody>\n",
       "    <tr>\n",
       "      <th>0</th>\n",
       "      <td>7590-VHVEG</td>\n",
       "      <td>0</td>\n",
       "      <td>0</td>\n",
       "      <td>1</td>\n",
       "      <td>0</td>\n",
       "      <td>0</td>\n",
       "      <td>1</td>\n",
       "      <td>0</td>\n",
       "      <td>0</td>\n",
       "      <td>0</td>\n",
       "      <td>...</td>\n",
       "      <td>0</td>\n",
       "      <td>0</td>\n",
       "      <td>0</td>\n",
       "      <td>0</td>\n",
       "      <td>1</td>\n",
       "      <td>0</td>\n",
       "      <td>0</td>\n",
       "      <td>0</td>\n",
       "      <td>1</td>\n",
       "      <td>0</td>\n",
       "    </tr>\n",
       "    <tr>\n",
       "      <th>1</th>\n",
       "      <td>5575-GNVDE</td>\n",
       "      <td>1</td>\n",
       "      <td>0</td>\n",
       "      <td>0</td>\n",
       "      <td>0</td>\n",
       "      <td>1</td>\n",
       "      <td>0</td>\n",
       "      <td>1</td>\n",
       "      <td>0</td>\n",
       "      <td>0</td>\n",
       "      <td>...</td>\n",
       "      <td>1</td>\n",
       "      <td>0</td>\n",
       "      <td>1</td>\n",
       "      <td>0</td>\n",
       "      <td>1</td>\n",
       "      <td>0</td>\n",
       "      <td>0</td>\n",
       "      <td>0</td>\n",
       "      <td>0</td>\n",
       "      <td>1</td>\n",
       "    </tr>\n",
       "    <tr>\n",
       "      <th>2</th>\n",
       "      <td>3668-QPYBK</td>\n",
       "      <td>1</td>\n",
       "      <td>0</td>\n",
       "      <td>0</td>\n",
       "      <td>0</td>\n",
       "      <td>1</td>\n",
       "      <td>1</td>\n",
       "      <td>0</td>\n",
       "      <td>0</td>\n",
       "      <td>0</td>\n",
       "      <td>...</td>\n",
       "      <td>0</td>\n",
       "      <td>0</td>\n",
       "      <td>1</td>\n",
       "      <td>0</td>\n",
       "      <td>1</td>\n",
       "      <td>0</td>\n",
       "      <td>0</td>\n",
       "      <td>0</td>\n",
       "      <td>0</td>\n",
       "      <td>1</td>\n",
       "    </tr>\n",
       "    <tr>\n",
       "      <th>3</th>\n",
       "      <td>7795-CFOCW</td>\n",
       "      <td>1</td>\n",
       "      <td>0</td>\n",
       "      <td>0</td>\n",
       "      <td>0</td>\n",
       "      <td>1</td>\n",
       "      <td>0</td>\n",
       "      <td>1</td>\n",
       "      <td>1</td>\n",
       "      <td>0</td>\n",
       "      <td>...</td>\n",
       "      <td>1</td>\n",
       "      <td>0</td>\n",
       "      <td>0</td>\n",
       "      <td>0</td>\n",
       "      <td>1</td>\n",
       "      <td>0</td>\n",
       "      <td>1</td>\n",
       "      <td>0</td>\n",
       "      <td>0</td>\n",
       "      <td>0</td>\n",
       "    </tr>\n",
       "    <tr>\n",
       "      <th>4</th>\n",
       "      <td>9237-HQITU</td>\n",
       "      <td>0</td>\n",
       "      <td>0</td>\n",
       "      <td>0</td>\n",
       "      <td>0</td>\n",
       "      <td>0</td>\n",
       "      <td>0</td>\n",
       "      <td>0</td>\n",
       "      <td>0</td>\n",
       "      <td>0</td>\n",
       "      <td>...</td>\n",
       "      <td>0</td>\n",
       "      <td>0</td>\n",
       "      <td>1</td>\n",
       "      <td>0</td>\n",
       "      <td>0</td>\n",
       "      <td>1</td>\n",
       "      <td>0</td>\n",
       "      <td>0</td>\n",
       "      <td>1</td>\n",
       "      <td>0</td>\n",
       "    </tr>\n",
       "  </tbody>\n",
       "</table>\n",
       "<p>5 rows × 28 columns</p>\n",
       "</div>"
      ],
      "text/plain": [
       "   customerID  gender  SeniorCitizen  Partner  Dependents  OnlineSecurity  \\\n",
       "0  7590-VHVEG       0              0        1           0               0   \n",
       "1  5575-GNVDE       1              0        0           0               1   \n",
       "2  3668-QPYBK       1              0        0           0               1   \n",
       "3  7795-CFOCW       1              0        0           0               1   \n",
       "4  9237-HQITU       0              0        0           0               0   \n",
       "\n",
       "   OnlineBackup  DeviceProtection  TechSupport  StreamingTV  ...  \\\n",
       "0             1                 0            0            0  ...   \n",
       "1             0                 1            0            0  ...   \n",
       "2             1                 0            0            0  ...   \n",
       "3             0                 1            1            0  ...   \n",
       "4             0                 0            0            0  ...   \n",
       "\n",
       "   Contract_One year  Contract_Two year  MultipleLines_No  MultipleLines_Yes  \\\n",
       "0                  0                  0                 0                  0   \n",
       "1                  1                  0                 1                  0   \n",
       "2                  0                  0                 1                  0   \n",
       "3                  1                  0                 0                  0   \n",
       "4                  0                  0                 1                  0   \n",
       "\n",
       "   InternetService_DSL  InternetService_Fiber optic  \\\n",
       "0                    1                            0   \n",
       "1                    1                            0   \n",
       "2                    1                            0   \n",
       "3                    1                            0   \n",
       "4                    0                            1   \n",
       "\n",
       "   PaymentMethod_Bank transfer (automatic)  \\\n",
       "0                                        0   \n",
       "1                                        0   \n",
       "2                                        0   \n",
       "3                                        1   \n",
       "4                                        0   \n",
       "\n",
       "   PaymentMethod_Credit card (automatic)  PaymentMethod_Electronic check  \\\n",
       "0                                      0                               1   \n",
       "1                                      0                               0   \n",
       "2                                      0                               0   \n",
       "3                                      0                               0   \n",
       "4                                      0                               1   \n",
       "\n",
       "   PaymentMethod_Mailed check  \n",
       "0                           0  \n",
       "1                           1  \n",
       "2                           1  \n",
       "3                           0  \n",
       "4                           0  \n",
       "\n",
       "[5 rows x 28 columns]"
      ]
     },
     "execution_count": 14,
     "metadata": {},
     "output_type": "execute_result"
    }
   ],
   "source": [
    "dataSet.head()"
   ]
  },
  {
   "cell_type": "code",
   "execution_count": 15,
   "id": "72b8da8b",
   "metadata": {},
   "outputs": [
    {
     "name": "stdout",
     "output_type": "stream",
     "text": [
      "<class 'pandas.core.frame.DataFrame'>\n",
      "Int64Index: 7042 entries, 0 to 7041\n",
      "Data columns (total 28 columns):\n",
      " #   Column                                   Non-Null Count  Dtype  \n",
      "---  ------                                   --------------  -----  \n",
      " 0   customerID                               7042 non-null   object \n",
      " 1   gender                                   7042 non-null   int64  \n",
      " 2   SeniorCitizen                            7042 non-null   int64  \n",
      " 3   Partner                                  7042 non-null   int64  \n",
      " 4   Dependents                               7042 non-null   int64  \n",
      " 5   OnlineSecurity                           7042 non-null   int64  \n",
      " 6   OnlineBackup                             7042 non-null   int64  \n",
      " 7   DeviceProtection                         7042 non-null   int64  \n",
      " 8   TechSupport                              7042 non-null   int64  \n",
      " 9   StreamingTV                              7042 non-null   int64  \n",
      " 10  StreamingMovies                          7042 non-null   int64  \n",
      " 11  tenure                                   7042 non-null   int64  \n",
      " 12  PhoneService                             7042 non-null   int64  \n",
      " 13  PaperlessBilling                         7042 non-null   int64  \n",
      " 14  MonthlyCharges                           7042 non-null   float64\n",
      " 15  TotalCharges                             7031 non-null   float64\n",
      " 16  Churn                                    7042 non-null   int64  \n",
      " 17  Contract_Month-to-month                  7042 non-null   uint8  \n",
      " 18  Contract_One year                        7042 non-null   uint8  \n",
      " 19  Contract_Two year                        7042 non-null   uint8  \n",
      " 20  MultipleLines_No                         7042 non-null   uint8  \n",
      " 21  MultipleLines_Yes                        7042 non-null   uint8  \n",
      " 22  InternetService_DSL                      7042 non-null   uint8  \n",
      " 23  InternetService_Fiber optic              7042 non-null   uint8  \n",
      " 24  PaymentMethod_Bank transfer (automatic)  7042 non-null   uint8  \n",
      " 25  PaymentMethod_Credit card (automatic)    7042 non-null   uint8  \n",
      " 26  PaymentMethod_Electronic check           7042 non-null   uint8  \n",
      " 27  PaymentMethod_Mailed check               7042 non-null   uint8  \n",
      "dtypes: float64(2), int64(14), object(1), uint8(11)\n",
      "memory usage: 1.0+ MB\n"
     ]
    },
    {
     "data": {
      "text/plain": [
       "customerID                                  0\n",
       "gender                                      0\n",
       "SeniorCitizen                               0\n",
       "Partner                                     0\n",
       "Dependents                                  0\n",
       "OnlineSecurity                              0\n",
       "OnlineBackup                                0\n",
       "DeviceProtection                            0\n",
       "TechSupport                                 0\n",
       "StreamingTV                                 0\n",
       "StreamingMovies                             0\n",
       "tenure                                      0\n",
       "PhoneService                                0\n",
       "PaperlessBilling                            0\n",
       "MonthlyCharges                              0\n",
       "TotalCharges                               11\n",
       "Churn                                       0\n",
       "Contract_Month-to-month                     0\n",
       "Contract_One year                           0\n",
       "Contract_Two year                           0\n",
       "MultipleLines_No                            0\n",
       "MultipleLines_Yes                           0\n",
       "InternetService_DSL                         0\n",
       "InternetService_Fiber optic                 0\n",
       "PaymentMethod_Bank transfer (automatic)     0\n",
       "PaymentMethod_Credit card (automatic)       0\n",
       "PaymentMethod_Electronic check              0\n",
       "PaymentMethod_Mailed check                  0\n",
       "dtype: int64"
      ]
     },
     "execution_count": 15,
     "metadata": {},
     "output_type": "execute_result"
    }
   ],
   "source": [
    "dataSet.info()\n",
    "dataSet.isnull().sum()"
   ]
  },
  {
   "cell_type": "code",
   "execution_count": 16,
   "id": "e8aef6d0",
   "metadata": {},
   "outputs": [],
   "source": [
    "dataSet = dataSet.replace(np.nan, 0)"
   ]
  },
  {
   "cell_type": "markdown",
   "id": "27774453",
   "metadata": {},
   "source": [
    "# Making Model"
   ]
  },
  {
   "cell_type": "code",
   "execution_count": 17,
   "id": "dca7d564",
   "metadata": {},
   "outputs": [],
   "source": [
    "from sklearn.ensemble import RandomForestClassifier\n",
    "from sklearn.model_selection import train_test_split\n",
    "from sklearn import metrics\n",
    "from sklearn import tree"
   ]
  },
  {
   "cell_type": "code",
   "execution_count": 18,
   "id": "d17ef65e",
   "metadata": {},
   "outputs": [
    {
     "name": "stdout",
     "output_type": "stream",
     "text": [
      "accuracy on train data: 0.8137553256238588\n",
      "accuracy on test data: 0.8182678655939423\n"
     ]
    }
   ],
   "source": [
    "y = dataSet['Churn']\n",
    "X = dataSet.drop( ['Churn', 'customerID'] ,axis = 1)\n",
    "\n",
    "X_train, X_test, y_train, y_test = train_test_split(X, y, train_size=0.7, test_size=0.3, random_state=500)\n",
    "\n",
    "model = RandomForestClassifier(n_estimators=30, criterion=\"entropy\", random_state = 100, min_samples_split = 9, max_depth = 7)#, max_features = \"sqrt\")\n",
    "model = model.fit(X_train,y_train)\n",
    "\n",
    "y_pred_train = model.predict(X_train)\n",
    "print('accuracy on train data:',metrics.accuracy_score(y_train, y_pred_train))\n",
    "\n",
    "y_pred = model.predict(X_test)\n",
    "print('accuracy on test data:',metrics.accuracy_score(y_test, y_pred))"
   ]
  },
  {
   "cell_type": "markdown",
   "id": "35ef4786",
   "metadata": {},
   "source": [
    "Classifier Analysis Tools to analyse the model."
   ]
  },
  {
   "cell_type": "code",
   "execution_count": 19,
   "id": "c0da09af",
   "metadata": {},
   "outputs": [
    {
     "name": "stdout",
     "output_type": "stream",
     "text": [
      "[[1469  101]\n",
      " [ 283  260]]\n"
     ]
    }
   ],
   "source": [
    "from sklearn.metrics import confusion_matrix\n",
    "confusion_matrix = confusion_matrix(y_test, y_pred)\n",
    "print(confusion_matrix)"
   ]
  },
  {
   "cell_type": "code",
   "execution_count": 20,
   "id": "760e59b5",
   "metadata": {},
   "outputs": [],
   "source": [
    "from sklearn.metrics import roc_auc_score, roc_curve\n",
    "fpr, tpr, thersh = roc_curve(y_test, y_pred)"
   ]
  },
  {
   "cell_type": "code",
   "execution_count": 21,
   "id": "ca7372ba",
   "metadata": {},
   "outputs": [
    {
     "data": {
      "image/png": "[encoded data removed]",
      "text/plain": [
       "<Figure size 432x288 with 1 Axes>"
      ]
     },
     "metadata": {
      "needs_background": "light"
     },
     "output_type": "display_data"
    }
   ],
   "source": [
    "plt.figure()\n",
    "plt.plot(fpr, tpr, label = 'Random Forest Classification')\n",
    "plt.plot([0,1], [0,1], 'r--')\n",
    "plt.xlabel('False Positive Rate')\n",
    "plt.ylabel('True Positive Rate')\n",
    "plt.show()"
   ]
  },
  {
   "cell_type": "code",
   "execution_count": 22,
   "id": "0bf50dda",
   "metadata": {},
   "outputs": [
    {
     "name": "stdout",
     "output_type": "stream",
     "text": [
      "              precision    recall  f1-score   support\n",
      "\n",
      "           0       0.84      0.94      0.88      1570\n",
      "           1       0.72      0.48      0.58       543\n",
      "\n",
      "    accuracy                           0.82      2113\n",
      "   macro avg       0.78      0.71      0.73      2113\n",
      "weighted avg       0.81      0.82      0.80      2113\n",
      "\n"
     ]
    }
   ],
   "source": [
    "from sklearn.metrics import classification_report\n",
    "print( classification_report(y_test, y_pred))"
   ]
  },
  {
   "cell_type": "markdown",
   "id": "034e6dc0",
   "metadata": {},
   "source": [
    "Now we have a base case model where the model uses 28 features. This is a large number of feautures so we are going to use wrapper methods to reduce the complexity of the model by reducing the feature set."
   ]
  },
  {
   "cell_type": "markdown",
   "id": "f4358f77",
   "metadata": {},
   "source": [
    "# Forward Feature Selection"
   ]
  },
  {
   "cell_type": "markdown",
   "id": "364863c5",
   "metadata": {},
   "source": [
    "By using SequentialFeatureSelector in sklearn library."
   ]
  },
  {
   "cell_type": "code",
   "execution_count": 23,
   "id": "d839a830",
   "metadata": {},
   "outputs": [],
   "source": [
    "from sklearn.feature_selection import SequentialFeatureSelector"
   ]
  },
  {
   "cell_type": "code",
   "execution_count": 24,
   "id": "5707a87e",
   "metadata": {},
   "outputs": [],
   "source": [
    "testing = RandomForestClassifier(n_estimators=20, criterion=\"entropy\", random_state = 100, min_samples_split = 9, max_depth = 7)\n",
    "ffs = SequentialFeatureSelector(testing, n_features_to_select=8, direction='forward', n_jobs=-1)"
   ]
  },
  {
   "cell_type": "code",
   "execution_count": 25,
   "id": "9044db87",
   "metadata": {},
   "outputs": [],
   "source": [
    "ffs.fit(X, y)\n",
    "selection = ffs.get_support()\n",
    "featureList = []\n",
    "totalFeatureList = X.columns\n",
    "for i, name in enumerate(totalFeatureList):\n",
    "    if selection[i] == True:\n",
    "        featureList.append(name)"
   ]
  },
  {
   "cell_type": "code",
   "execution_count": 26,
   "id": "99defde6",
   "metadata": {},
   "outputs": [],
   "source": [
    "newX=X[featureList]\n",
    "X_train, X_test, y_train, y_test = train_test_split(newX, y, train_size=0.7, test_size=0.3, random_state=500)"
   ]
  },
  {
   "cell_type": "code",
   "execution_count": 27,
   "id": "47744939",
   "metadata": {},
   "outputs": [
    {
     "name": "stdout",
     "output_type": "stream",
     "text": [
      "accuracy on train data: 0.808277541083384\n",
      "accuracy on test data: 0.8069096071935636\n"
     ]
    }
   ],
   "source": [
    "testing.fit(X_train, y_train)\n",
    "\n",
    "y_pred_train = testing.predict(X_train)\n",
    "print('accuracy on train data:',metrics.accuracy_score(y_train, y_pred_train))\n",
    "\n",
    "y_pred = testing.predict(X_test)\n",
    "print('accuracy on test data:',metrics.accuracy_score(y_test, y_pred))"
   ]
  },
  {
   "cell_type": "code",
   "execution_count": 28,
   "id": "da9bf151",
   "metadata": {},
   "outputs": [
    {
     "name": "stdout",
     "output_type": "stream",
     "text": [
      "              precision    recall  f1-score   support\n",
      "\n",
      "           0       0.83      0.93      0.88      1570\n",
      "           1       0.69      0.45      0.54       543\n",
      "\n",
      "    accuracy                           0.81      2113\n",
      "   macro avg       0.76      0.69      0.71      2113\n",
      "weighted avg       0.79      0.81      0.79      2113\n",
      "\n"
     ]
    }
   ],
   "source": [
    "print( classification_report(y_test, y_pred))"
   ]
  },
  {
   "cell_type": "markdown",
   "id": "191387e8",
   "metadata": {},
   "source": [
    "# Backward Feature Elimination"
   ]
  },
  {
   "cell_type": "markdown",
   "id": "bf06bf7b",
   "metadata": {},
   "source": [
    "By using SequentialFeatureSelector in sklearn library"
   ]
  },
  {
   "cell_type": "code",
   "execution_count": 29,
   "id": "abb2c11f",
   "metadata": {},
   "outputs": [],
   "source": [
    "testing_back = RandomForestClassifier(n_estimators=20, criterion=\"entropy\", random_state = 100, min_samples_split = 9, max_depth = 7)\n",
    "bfs = SequentialFeatureSelector(testing_back, n_features_to_select=8, direction='backward', n_jobs=-1)"
   ]
  },
  {
   "cell_type": "code",
   "execution_count": 30,
   "id": "bbc43368",
   "metadata": {},
   "outputs": [],
   "source": [
    "bfs.fit(X, y)\n",
    "selection = bfs.get_support()\n",
    "featureList = []\n",
    "totalFeatureList = X.columns\n",
    "for i, name in enumerate(totalFeatureList):\n",
    "    if selection[i] == True:\n",
    "        featureList.append(name)"
   ]
  },
  {
   "cell_type": "code",
   "execution_count": 31,
   "id": "296a0fcc",
   "metadata": {},
   "outputs": [],
   "source": [
    "newX=X[featureList]\n",
    "X_train, X_test, y_train, y_test = train_test_split(newX, y, train_size=0.7, test_size=0.3, random_state=500)"
   ]
  },
  {
   "cell_type": "code",
   "execution_count": 32,
   "id": "724fb498",
   "metadata": {},
   "outputs": [
    {
     "name": "stdout",
     "output_type": "stream",
     "text": [
      "accuracy on train data: 0.8153783728951106\n",
      "accuracy on test data: 0.8130619971604354\n"
     ]
    }
   ],
   "source": [
    "testing_back.fit(X_train, y_train)\n",
    "\n",
    "y_pred_train = testing_back.predict(X_train)\n",
    "print('accuracy on train data:',metrics.accuracy_score(y_train, y_pred_train))\n",
    "\n",
    "y_pred = testing_back.predict(X_test)\n",
    "print('accuracy on test data:',metrics.accuracy_score(y_test, y_pred))"
   ]
  },
  {
   "cell_type": "code",
   "execution_count": 33,
   "id": "2dae7f3a",
   "metadata": {},
   "outputs": [
    {
     "name": "stdout",
     "output_type": "stream",
     "text": [
      "              precision    recall  f1-score   support\n",
      "\n",
      "           0       0.83      0.93      0.88      1570\n",
      "           1       0.71      0.46      0.56       543\n",
      "\n",
      "    accuracy                           0.81      2113\n",
      "   macro avg       0.77      0.70      0.72      2113\n",
      "weighted avg       0.80      0.81      0.80      2113\n",
      "\n"
     ]
    }
   ],
   "source": [
    "print( classification_report(y_test, y_pred))"
   ]
  },
  {
   "cell_type": "markdown",
   "id": "131b75fd",
   "metadata": {},
   "source": [
    "# Exhaustive Feature Selection"
   ]
  },
  {
   "cell_type": "markdown",
   "id": "217ea5c2",
   "metadata": {},
   "source": [
    "By using mlxtend library"
   ]
  },
  {
   "cell_type": "code",
   "execution_count": 35,
   "id": "893fc5fa",
   "metadata": {},
   "outputs": [],
   "source": [
    "from mlxtend.feature_selection import ExhaustiveFeatureSelector"
   ]
  },
  {
   "cell_type": "code",
   "execution_count": 39,
   "id": "644bc42f",
   "metadata": {
    "collapsed": true
   },
   "outputs": [
    {
     "name": "stderr",
     "output_type": "stream",
     "text": [
      "Features: 3000/17875IOPub message rate exceeded.\n",
      "The notebook server will temporarily stop sending output\n",
      "to the client in order to avoid crashing it.\n",
      "To change this limit, set the config variable\n",
      "`--NotebookApp.iopub_msg_rate_limit`.\n",
      "\n",
      "Current values:\n",
      "NotebookApp.iopub_msg_rate_limit=1000.0 (msgs/sec)\n",
      "NotebookApp.rate_limit_window=3.0 (secs)\n",
      "\n",
      "Features: 7682/17875IOPub message rate exceeded.\n",
      "The notebook server will temporarily stop sending output\n",
      "to the client in order to avoid crashing it.\n",
      "To change this limit, set the config variable\n",
      "`--NotebookApp.iopub_msg_rate_limit`.\n",
      "\n",
      "Current values:\n",
      "NotebookApp.iopub_msg_rate_limit=1000.0 (msgs/sec)\n",
      "NotebookApp.rate_limit_window=3.0 (secs)\n",
      "\n",
      "Features: 12375/17875IOPub message rate exceeded.\n",
      "The notebook server will temporarily stop sending output\n",
      "to the client in order to avoid crashing it.\n",
      "To change this limit, set the config variable\n",
      "`--NotebookApp.iopub_msg_rate_limit`.\n",
      "\n",
      "Current values:\n",
      "NotebookApp.iopub_msg_rate_limit=1000.0 (msgs/sec)\n",
      "NotebookApp.rate_limit_window=3.0 (secs)\n",
      "\n",
      "Features: 17616/17875IOPub message rate exceeded.\n",
      "The notebook server will temporarily stop sending output\n",
      "to the client in order to avoid crashing it.\n",
      "To change this limit, set the config variable\n",
      "`--NotebookApp.iopub_msg_rate_limit`.\n",
      "\n",
      "Current values:\n",
      "NotebookApp.iopub_msg_rate_limit=1000.0 (msgs/sec)\n",
      "NotebookApp.rate_limit_window=3.0 (secs)\n",
      "\n"
     ]
    }
   ],
   "source": [
    "efs = ExhaustiveFeatureSelector(RandomForestClassifier(n_estimators=12, criterion=\"entropy\", random_state = 100, min_samples_split = 9, max_depth = 7),\n",
    "                               min_features=2,\n",
    "                               max_features=4,\n",
    "                               scoring='roc_auc',\n",
    "                               n_jobs=-1)\n",
    "X_train, X_test, y_train, y_test = train_test_split(X, y, train_size=0.7, test_size=0.3, random_state=500)\n",
    "efs = efs.fit(X_train, y_train)"
   ]
  },
  {
   "cell_type": "code",
   "execution_count": 40,
   "id": "e7e74cbe",
   "metadata": {
    "scrolled": true
   },
   "outputs": [
    {
     "name": "stdout",
     "output_type": "stream",
     "text": [
      "Index(['tenure', 'MonthlyCharges', 'Contract_One year', 'Contract_Two year'], dtype='object')\n",
      "0.8260853485265647\n"
     ]
    }
   ],
   "source": [
    "print(X_train.columns[list(efs.best_idx_)])\n",
    "print(efs.best_score_)"
   ]
  },
  {
   "cell_type": "code",
   "execution_count": 43,
   "id": "fb444753",
   "metadata": {
    "collapsed": true
   },
   "outputs": [
    {
     "data": {
      "text/plain": [
       "RandomForestClassifier(criterion='entropy', max_depth=7, min_samples_split=9,\n",
       "                       n_estimators=12, random_state=100)"
      ]
     },
     "execution_count": 43,
     "metadata": {},
     "output_type": "execute_result"
    }
   ],
   "source": [
    "testing_exhaust = RandomForestClassifier(n_estimators=12, criterion=\"entropy\", random_state = 100, min_samples_split = 9, max_depth = 7)\n",
    "newX = X[['tenure', 'MonthlyCharges', 'Contract_One year', 'Contract_Two year']]\n",
    "X_train, X_test, y_train, y_test = train_test_split(newX, y, train_size=0.7, test_size=0.3, random_state=500)\n",
    "testing_exhaust.fit(X_train, y_train)"
   ]
  },
  {
   "cell_type": "code",
   "execution_count": 44,
   "id": "18922cc1",
   "metadata": {},
   "outputs": [
    {
     "name": "stdout",
     "output_type": "stream",
     "text": [
      "accuracy on train data: 0.8007709474538446\n",
      "accuracy on test data: 0.795551348793185\n"
     ]
    }
   ],
   "source": [
    "y_pred_train = testing_exhaust.predict(X_train)\n",
    "print('accuracy on train data:',metrics.accuracy_score(y_train, y_pred_train))\n",
    "\n",
    "y_pred = testing_exhaust.predict(X_test)\n",
    "print('accuracy on test data:',metrics.accuracy_score(y_test, y_pred))"
   ]
  },
  {
   "cell_type": "code",
   "execution_count": 45,
   "id": "edacab3d",
   "metadata": {},
   "outputs": [
    {
     "name": "stdout",
     "output_type": "stream",
     "text": [
      "              precision    recall  f1-score   support\n",
      "\n",
      "           0       0.83      0.91      0.87      1570\n",
      "           1       0.64      0.47      0.54       543\n",
      "\n",
      "    accuracy                           0.80      2113\n",
      "   macro avg       0.74      0.69      0.71      2113\n",
      "weighted avg       0.78      0.80      0.78      2113\n",
      "\n"
     ]
    }
   ],
   "source": [
    "print( classification_report(y_test, y_pred))"
   ]
  },
  {
   "cell_type": "markdown",
   "id": "0083cc0f",
   "metadata": {},
   "source": [
    "# Recursive Feature Elimination"
   ]
  },
  {
   "cell_type": "markdown",
   "id": "106d9c48",
   "metadata": {},
   "source": [
    "By using sklearn library"
   ]
  },
  {
   "cell_type": "code",
   "execution_count": 46,
   "id": "d87a7da1",
   "metadata": {},
   "outputs": [
    {
     "data": {
      "text/plain": [
       "RFE(estimator=RandomForestClassifier(criterion='entropy', max_depth=7,\n",
       "                                     min_samples_split=9, n_estimators=20,\n",
       "                                     random_state=100),\n",
       "    n_features_to_select=8)"
      ]
     },
     "execution_count": 46,
     "metadata": {},
     "output_type": "execute_result"
    }
   ],
   "source": [
    "from sklearn.feature_selection import RFE\n",
    "rfe=RFE(RandomForestClassifier(n_estimators=20, criterion=\"entropy\", random_state = 100, min_samples_split = 9, max_depth = 7), n_features_to_select=8)\n",
    "X_train, X_test, y_train, y_test = train_test_split(X, y, train_size=0.7, test_size=0.3, random_state=500)\n",
    "rfe.fit(X_train, y_train)"
   ]
  },
  {
   "cell_type": "code",
   "execution_count": 47,
   "id": "6d372cce",
   "metadata": {},
   "outputs": [
    {
     "name": "stdout",
     "output_type": "stream",
     "text": [
      "accuracy on train data: 0.8113207547169812\n",
      "accuracy on test data: 0.8092759110269758\n"
     ]
    }
   ],
   "source": [
    "y_pred_train = rfe.predict(X_train)\n",
    "print('accuracy on train data:',metrics.accuracy_score(y_train, y_pred_train))\n",
    "\n",
    "y_pred = rfe.predict(X_test)\n",
    "print('accuracy on test data:',metrics.accuracy_score(y_test, y_pred))"
   ]
  },
  {
   "cell_type": "code",
   "execution_count": 48,
   "id": "d92112e8",
   "metadata": {
    "scrolled": true
   },
   "outputs": [
    {
     "name": "stdout",
     "output_type": "stream",
     "text": [
      "              precision    recall  f1-score   support\n",
      "\n",
      "           0       0.84      0.92      0.88      1570\n",
      "           1       0.68      0.48      0.56       543\n",
      "\n",
      "    accuracy                           0.81      2113\n",
      "   macro avg       0.76      0.70      0.72      2113\n",
      "weighted avg       0.80      0.81      0.80      2113\n",
      "\n"
     ]
    }
   ],
   "source": [
    "print( classification_report(y_test, y_pred))"
   ]
  },
  {
   "cell_type": "markdown",
   "id": "db80e84d",
   "metadata": {},
   "source": [
    "# Random Forest Importance"
   ]
  },
  {
   "cell_type": "markdown",
   "id": "daf74912",
   "metadata": {},
   "source": [
    "A embedded method of feature selection using the feature importance to rank attributes ans selecting from it"
   ]
  },
  {
   "cell_type": "code",
   "execution_count": 18,
   "id": "bdd32be8",
   "metadata": {},
   "outputs": [],
   "source": [
    "y = dataSet['Churn']\n",
    "X = dataSet.drop( ['Churn', 'customerID'] ,axis = 1)\n",
    "\n",
    "X_train, X_test, y_train, y_test = train_test_split(X, y, train_size=0.7, test_size=0.3, random_state=500)"
   ]
  },
  {
   "cell_type": "code",
   "execution_count": 20,
   "id": "3d062d5f",
   "metadata": {},
   "outputs": [
    {
     "data": {
      "text/plain": [
       "RandomForestClassifier(criterion='entropy', max_depth=7, min_samples_split=9,\n",
       "                       n_estimators=30, random_state=100)"
      ]
     },
     "execution_count": 20,
     "metadata": {},
     "output_type": "execute_result"
    }
   ],
   "source": [
    "model = RandomForestClassifier(n_estimators=30, criterion=\"entropy\", random_state = 100, min_samples_split = 9, max_depth = 7)\n",
    "model.fit(X_train, y_train)\n"
   ]
  },
  {
   "cell_type": "code",
   "execution_count": 21,
   "id": "16d18244",
   "metadata": {},
   "outputs": [],
   "source": [
    "importance = model.feature_importances_"
   ]
  },
  {
   "cell_type": "code",
   "execution_count": 41,
   "id": "9e2ff604",
   "metadata": {},
   "outputs": [],
   "source": [
    "feature_id = X.columns"
   ]
  },
  {
   "cell_type": "code",
   "execution_count": 45,
   "id": "14d51d53",
   "metadata": {},
   "outputs": [
    {
     "data": {
      "text/plain": [
       "Text(0, 0.5, 'importace')"
      ]
     },
     "execution_count": 45,
     "metadata": {},
     "output_type": "execute_result"
    },
    {
     "data": {
      "image/png": "[encoded data removed]",
      "text/plain": [
       "<Figure size 576x576 with 1 Axes>"
      ]
     },
     "metadata": {
      "needs_background": "light"
     },
     "output_type": "display_data"
    }
   ],
   "source": [
    "plt.figure(figsize=(8,8))\n",
    "plt.bar(feature_id,importance)\n",
    "plt.xlabel(\"feature_id\")\n",
    "plt.xticks(rotation=270)\n",
    "plt.ylabel(\"importace\")"
   ]
  },
  {
   "cell_type": "markdown",
   "id": "59f7a982",
   "metadata": {},
   "source": [
    "this barplot of feature vs importance help us to identify those features which have high importance. We select adequate number of feature to make model simple yet accurate."
   ]
  }
 ],
 "metadata": {
  "kernelspec": {
   "display_name": "Python 3",
   "language": "python",
   "name": "python3"
  },
  "language_info": {
   "codemirror_mode": {
    "name": "ipython",
    "version": 3
   },
   "file_extension": ".py",
   "mimetype": "text/x-python",
   "name": "python",
   "nbconvert_exporter": "python",
   "pygments_lexer": "ipython3",
   "version": "3.8.8"
  }
 },
 "nbformat": 4,
 "nbformat_minor": 5
}
